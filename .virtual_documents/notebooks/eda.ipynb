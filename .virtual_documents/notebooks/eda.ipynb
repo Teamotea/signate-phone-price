# 一つ上の階層からモジュールを参照できるようにする
import sys
sys.path.append('..')


# モジュールの変更を自動的に反映する
get_ipython().run_line_magic("load_ext", " autoreload")
get_ipython().run_line_magic("autoreload", " 2")


import pandas as pd
import numpy as np
import matplotlib.pyplot as plt
from inputs import load_data


train_x, train_y, test_x = load_data()


train_x.head()


train_x.shape


test_x.head()


test_x.shape


train_y.value_counts().sort_index() # / train_y.shape[0]


train_x.isnull().any()


test_x.isnull().any()


train_y.isnull().any()


pd.concat([train_y.value_counts().to_frame('count'),
           (train_y.value_counts() / train_y.shape[0]).to_frame('rate')], axis=1).sort_index()


train_x.columns


test_x.columns


bins = list(range(500, 2001, 100))
_ = train_x['battery_power'].plot.hist(bins=bins, alpha=.7)
_ = test_x['battery_power'].plot.hist(bins=bins, alpha=.7)


pd.concat([train_x['blue'].value_counts().to_frame('count'),
           (train_x['blue'].value_counts() / train_x.shape[0]).to_frame('rate')], axis=1)


pd.concat([test_x['blue'].value_counts().to_frame('count'),
           (test_x['blue'].value_counts() / test_x.shape[0]).to_frame('rate')], axis=1)


bins = np.linspace(0.4, 3, int((3-0.4)/0.1))
_ = train_x['clock_speed'].plot.hist(bins=bins, alpha=.7)
_ = test_x['clock_speed'].plot.hist(bins=bins, alpha=.7)


pd.concat([train_x['dual_sim'].value_counts().to_frame('count'),
           (train_x['dual_sim'].value_counts() / train_x.shape[0]).to_frame('rate')], axis=1).sort_index()


pd.concat([test_x['dual_sim'].value_counts().to_frame('count'),
           (test_x['dual_sim'].value_counts() / test_x.shape[0]).to_frame('rate')], axis=1).sort_index()


bins = list(range(0, 17, 1))
indices = list(range(0, 17, 2))
ax = train_x['fc'].plot.hist(bins=bins, alpha=.7)
_ = test_x['fc'].plot.hist(bins=bins, alpha=.7)
_ = ax.set_xticks(np.array(bins)[indices]+0.5)
_ = ax.set_xticklabels(np.array(bins)[indices])


pd.concat([train_x['four_g'].value_counts().to_frame('count'),
           (train_x['four_g'].value_counts() / train_x.shape[0]).to_frame('rate')], axis=1).sort_index()


pd.concat([test_x['four_g'].value_counts().to_frame('count'),
           (test_x['four_g'].value_counts() / test_x.shape[0]).to_frame('rate')], axis=1).sort_index()


bins = list(range(0, 66, 5))
ax = train_x['int_memory'].plot.hist(bins=bins, alpha=.7)
_ = test_x['int_memory'].plot.hist(bins=bins, alpha=.7)
ax.set_xlabel('int_memory')
ax.set_ylim([0, 185])
_ = ax.set_xlim([-3, 68])


bins = np.linspace(0, 1, 11)
_ = train_x['m_dep'].plot.hist(bins=bins, alpha=.7)
_ = test_x['m_dep'].plot.hist(bins=bins, alpha=.7)


bins = list(range(80, 201, 10))
_ = train_x['mobile_wt'].plot.hist(bins=bins, alpha=.7)
_ = test_x['mobile_wt'].plot.hist(bins=bins, alpha=.7)


bins = list(range(1, 10, 1))
_ = train_x['n_cores'].plot.hist(bins=bins, alpha=.7)
_ = test_x['n_cores'].plot.hist(bins=bins, alpha=.7)


bins = list(range(0, 22, 1))
_ = train_x['pc'].plot.hist(bins=bins, alpha=.7)
_ = test_x['pc'].plot.hist(bins=bins, alpha=.7)


bins = list(range(0, 2001, 100))
_ = train_x['px_height'].plot.hist(bins=bins, alpha=.7)
_ = test_x['px_height'].plot.hist(bins=bins, alpha=.7)


bins = list(range(500, 2001, 100))
_ = train_x['px_height'].plot.hist(bins=bins, alpha=.7)
_ = test_x['px_height'].plot.hist(bins=bins, alpha=.7)


bins = list(range(200, 4001, 100))
_ = train_x['ram'].plot.hist(bins=bins, alpha=.7)
_ = test_x['ram'].plot.hist(bins=bins, alpha=.7)


bins = list(range(5, 21, 1))
_ = train_x['sc_h'].plot.hist(bins=bins, alpha=.7)
_ = test_x['sc_h'].plot.hist(bins=bins, alpha=.7)


bins = list(range(0, 18, 1))
_ = train_x['sc_w'].plot.hist(bins=bins, alpha=.7)
_ = test_x['sc_w'].plot.hist(bins=bins, alpha=.7)


bins = list(range(2, 22, 1))
_ = train_x['talk_time'].plot.hist(bins=bins, alpha=.7)
_ = test_x['talk_time'].plot.hist(bins=bins, alpha=.7)


pd.concat([train_x['three_g'].value_counts().to_frame('count'),
           (train_x['three_g'].value_counts() / train_x.shape[0]).to_frame('rate')], axis=1).sort_index()


pd.concat([test_x['three_g'].value_counts().to_frame('count'),
           (test_x['three_g'].value_counts() / test_x.shape[0]).to_frame('rate')], axis=1).sort_index()


pd.concat([train_x['touch_screen'].value_counts().to_frame('count'),
           (train_x['touch_screen'].value_counts() / train_x.shape[0]).to_frame('rate')], axis=1).sort_index()


pd.concat([test_x['touch_screen'].value_counts().to_frame('count'),
           (test_x['touch_screen'].value_counts() / test_x.shape[0]).to_frame('rate')], axis=1).sort_index()


pd.concat([train_x['wifi'].value_counts().to_frame('count'),
           (train_x['wifi'].value_counts() / train_x.shape[0]).to_frame('rate')], axis=1).sort_index()


pd.concat([test_x['wifi'].value_counts().to_frame('count'),
           (test_x['wifi'].value_counts() / test_x.shape[0]).to_frame('rate')], axis=1).sort_index()


# four_g と three_g が true かどうかの特徴量
# px_height と sc_h の差（どれくらいのベゼルがあるか）



